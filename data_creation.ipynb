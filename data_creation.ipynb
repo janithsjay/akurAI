{
 "cells": [
  {
   "cell_type": "code",
   "execution_count": 1,
   "id": "3da03967-5e76-4ff2-9be9-583ee272b50d",
   "metadata": {},
   "outputs": [
    {
     "name": "stdout",
     "output_type": "stream",
     "text": [
      "['ae', 'u', 'a', 'e']\n"
     ]
    }
   ],
   "source": [
    "import os\n",
    "import numpy as np\n",
    "import cv2\n",
    "\n",
    "dataset_path = 'dataset'\n",
    "\n",
    "letters = os.listdir(dataset_path)\n",
    "print(letters)\n"
   ]
  },
  {
   "cell_type": "code",
   "execution_count": 2,
   "id": "c4e6f7cb-de32-48c0-ae8f-78f8200ec984",
   "metadata": {},
   "outputs": [
    {
     "name": "stdout",
     "output_type": "stream",
     "text": [
      "[0, 1, 2, 3]\n"
     ]
    }
   ],
   "source": [
    "labels = [i for i in range(len(letters))]\n",
    "print(labels)"
   ]
  },
  {
   "cell_type": "code",
   "execution_count": 3,
   "id": "a9655384-c7eb-45d6-9411-67eb91e5055e",
   "metadata": {},
   "outputs": [],
   "source": [
    "letter_dict = {'a': 0, 'ae': 1, 'e': 2, 'u': 3}"
   ]
  },
  {
   "cell_type": "code",
   "execution_count": 6,
   "id": "cc4323a4-ebb1-40bf-84fc-07367f5fec07",
   "metadata": {},
   "outputs": [
    {
     "name": "stdout",
     "output_type": "stream",
     "text": [
      "2.2.6\n"
     ]
    }
   ],
   "source": [
    "data = []\n",
    "target = []\n",
    "\n",
    "for letter in letters:\n",
    "    letter_path = os.path.join(dataset_path, letter)\n",
    "    letter_char_names = os.listdir(letter_path)\n",
    "\n",
    "    for char_name in letter_char_names:\n",
    "        # print(char_name)\n",
    "        char_path = os.path.join(letter_path,char_name)\n",
    "        char = cv2.imread(char_path,0)\n",
    "        # cv2.imshow('LIVE', char)\n",
    "        # k = cv2.waitKey(100)\n",
    "        # if(k == 27):\n",
    "        #     break\n",
    "        char = cv2.resize(char,(8,8))\n",
    "        data.append(char)\n",
    "        target.append(letter_dict[letter])\n",
    "# cv.destroyAllWindows()\n",
    "\n",
    "\n",
    "data = np.array(data)\n",
    "target = np.array(target)\n",
    "\n",
    "# reshaping to flat matrix\n",
    "data = data.reshape(data.shape[0], data.shape[1] * data.shape[2])\n",
    "\n",
    "# saving np data array\n",
    "np.save('data', data)\n",
    "np.save('target', target)\n",
    "print(np.__version__)"
   ]
  },
  {
   "cell_type": "code",
   "execution_count": null,
   "id": "0f55e90d-316d-4865-8554-68a69d87ae66",
   "metadata": {},
   "outputs": [],
   "source": []
  },
  {
   "cell_type": "code",
   "execution_count": null,
   "id": "fd5e0c97-f461-402c-8d9c-123def1dac15",
   "metadata": {},
   "outputs": [],
   "source": []
  }
 ],
 "metadata": {
  "kernelspec": {
   "display_name": "Python 3 (ipykernel)",
   "language": "python",
   "name": "python3"
  },
  "language_info": {
   "codemirror_mode": {
    "name": "ipython",
    "version": 3
   },
   "file_extension": ".py",
   "mimetype": "text/x-python",
   "name": "python",
   "nbconvert_exporter": "python",
   "pygments_lexer": "ipython3",
   "version": "3.12.2"
  }
 },
 "nbformat": 4,
 "nbformat_minor": 5
}
